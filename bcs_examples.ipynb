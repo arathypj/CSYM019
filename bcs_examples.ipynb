{
  "nbformat": 4,
  "nbformat_minor": 0,
  "metadata": {
    "colab": {
      "name": "bcs_examples.ipynb",
      "provenance": [],
      "collapsed_sections": [],
      "authorship_tag": "ABX9TyMG6b/fBSjSct0xsgxKUdI3",
      "include_colab_link": true
    },
    "kernelspec": {
      "name": "python3",
      "display_name": "Python 3"
    },
    "language_info": {
      "name": "python"
    }
  },
  "cells": [
    {
      "cell_type": "markdown",
      "metadata": {
        "id": "view-in-github",
        "colab_type": "text"
      },
      "source": [
        "<a href=\"https://colab.research.google.com/github/arathypj/CSYM019/blob/main/bcs_examples.ipynb\" target=\"_parent\"><img src=\"https://colab.research.google.com/assets/colab-badge.svg\" alt=\"Open In Colab\"/></a>"
      ]
    },
    {
      "cell_type": "code",
      "metadata": {
        "colab": {
          "base_uri": "https://localhost:8080/"
        },
        "id": "_SlwDlwHFs0F",
        "outputId": "6f555520-58d9-48b2-e0e4-48ead845af68"
      },
      "source": [
        "def convertToBinary(n):\n",
        "   if n > 1:\n",
        "       convertToBinary(n//2)\n",
        "   print(n % 2,end = '')\n",
        "\n",
        "convertToBinary(16)\n",
        "#print()"
      ],
      "execution_count": null,
      "outputs": [
        {
          "output_type": "stream",
          "name": "stdout",
          "text": [
            "10000"
          ]
        }
      ]
    },
    {
      "cell_type": "code",
      "metadata": {
        "id": "J1IkRbIYQrGw"
      },
      "source": [
        "examResults = [[\"Steve\", 55, 60, 75], [\"Mike\", 75, 80, 90], [\"Paul\", 71, 78, 78]]\n",
        "status = False\n",
        "\n",
        "\n",
        "for i in range(0, 3):\n",
        "  score = 0\n",
        "  for j in range(1, 4):\n",
        "    score += examResults[i][j]\n",
        "  print(\"Score of \" + examResults[i][0] + \" is \" )\n",
        "  print(score)\n",
        "\n"
      ],
      "execution_count": null,
      "outputs": []
    },
    {
      "cell_type": "code",
      "metadata": {
        "colab": {
          "base_uri": "https://localhost:8080/"
        },
        "id": "MjlSupjBAnzN",
        "outputId": "34ef6d68-95f9-4406-b5f6-1a800a49f2bd"
      },
      "source": [
        "\n",
        "a = 3\n",
        "b = 9\n",
        "\n",
        "temp = a\n",
        "a = b\n",
        "b = temp\n",
        "\n",
        "print(\"The value of a after swapping: {}\".format(a))\n",
        "print(\"The value of b after swapping: {}\".format(b))"
      ],
      "execution_count": null,
      "outputs": [
        {
          "output_type": "stream",
          "name": "stdout",
          "text": [
            "The value of a after swapping: 9\n",
            "The value of b after swapping: 3\n"
          ]
        }
      ]
    },
    {
      "cell_type": "code",
      "metadata": {
        "id": "l_tN3hmCteP0",
        "colab": {
          "base_uri": "https://localhost:8080/"
        },
        "outputId": "79c78ccd-dada-4f27-be50-6aca10d52fd2"
      },
      "source": [
        "num=int(input(\"Enter the number\"))\n",
        "\n",
        "if (num%2 == 0):\n",
        "  print(\"The number is even\")\n",
        "else:\n",
        "  print(\"The number is odd\")\n",
        "\n"
      ],
      "execution_count": null,
      "outputs": [
        {
          "output_type": "stream",
          "name": "stdout",
          "text": [
            "Enter the number42\n",
            "The number is even\n"
          ]
        }
      ]
    },
    {
      "cell_type": "code",
      "metadata": {
        "id": "vvqWkO_-ymQY"
      },
      "source": [
        "def speedLimitChecker(speedLimit, measuredSpeed):\n",
        "  if (measuredSpeed>speedLimit):\n",
        "    if (measuredSpeed<90):\n",
        "      fine = 50 + (measuredSpeed-speedLimit)*5\n",
        "    else:\n",
        "      fine = 150 + (measuredSpeed-speedLimit)*5\n",
        "    return fine\n",
        "  else:\n",
        "    return 0\n",
        "\n",
        "speed = input(\"Enter measured speed\")\n",
        "limit = input(\"Enter speed limit\")\n",
        "fine = speedLimitChecker(int(limit), int(speed))\n",
        "print(fine)"
      ],
      "execution_count": null,
      "outputs": []
    },
    {
      "cell_type": "code",
      "metadata": {
        "id": "9__5Whlp7q55"
      },
      "source": [
        "sales = [[189,28,132,12], [123,89, 356, 18], [356, 54, 128, 28], [104, 13, 108, 35], [205, 18, 102, 23]]\n",
        "productTotal = [0]\n",
        "percentage = [0, 0, 0, 0]\n",
        "total = 0\n",
        "for j in range(0, 4):\n",
        "  productTotal[j] = 0\n",
        "  for i in range(0, 5):\n",
        "    productTotal[j] += sales[i][j]\n",
        "  total += productTotal[j]\n",
        "  productTotal.append(0)\n",
        "print(\"Sales of each product \")\n",
        "print(productTotal)\n",
        "for i in range(0, 4):\n",
        "  percentage[i] = productTotal[i]/total\n",
        "print(\"Percentage Sales of each product \")\n",
        "print(percentage)\n",
        "\n",
        "for i in range(0, 4):\n",
        "  if (percentage[i]>0.5):\n",
        "    print(\"Product \" + (str(i+1)) + \" exceeds the 50% of total sales\")\n",
        "  else:\n",
        "    print(\"No product exceeds the 50% of total sales\")\n",
        "\n",
        "maxVal = 0\n",
        "region = []\n",
        "productNo = []\n",
        "for i in range(0, 5):\n",
        "  for j in range(0, 4):\n",
        "    if (sales[i][j]>maxVal):\n",
        "      maxVal = sales[i][j]\n",
        "\n",
        "for i in range(0, 5):\n",
        "  for j in range(0, 4):\n",
        "    if (sales[i][j]==maxVal):\n",
        "      region.append(i)\n",
        "      productNo.append(j)\n",
        "print(\"Maximum sales is \" + str(maxVal))\n",
        "print(\"product-region combination of maximum sales\")\n",
        "for i in range(0, len(region)):\n",
        "  print(\"Region \" + str(region[i]+1)+ \" and Product \"+ str(productNo[i]+1))\n"
      ],
      "execution_count": null,
      "outputs": []
    },
    {
      "cell_type": "code",
      "metadata": {
        "id": "unKtYah3EPiN"
      },
      "source": [
        "def binaryConverter(n):\n",
        "  remainders = []\n",
        "  binaryNum = 0\n",
        "  while (n>0):\n",
        "    remainders.append(n%2)\n",
        "    n=n//2\n",
        "    print(n)\n",
        "  for i in range(0, len(remainders)):\n",
        "    binaryNum += remainders[i]*(10**i)\n",
        "  return binaryNum\n",
        "\n",
        "  \n",
        "n=int(input(\"Enter the number to be converted\"))\n",
        "print(binaryConverter(n))\n",
        "\n"
      ],
      "execution_count": null,
      "outputs": []
    },
    {
      "cell_type": "code",
      "metadata": {
        "id": "0iLU8C9bYJ_7"
      },
      "source": [
        "def copyArray(a):\n",
        "  copyOfArray = []\n",
        "  for i in range(0, len(a)):\n",
        "    copyOfArray.append(a[i])\n",
        "  a.append(4)\n",
        "  return \"copy = \"+str(copyOfArray)\n",
        "\n",
        "def sumArray(a):\n",
        "  sumVal = 0\n",
        "  for i in range(0, len(a)):\n",
        "    sumVal += a[i]\n",
        "  return sumVal\n",
        "\n",
        "def maxMin(a):\n",
        "  maxVal = a[0]\n",
        "  minVal = a[0]\n",
        "  for i in range(0, len(a)):\n",
        "    if (a[i]>maxVal):\n",
        "      maxVal = a[i]\n",
        "    if (a[i]<minVal):\n",
        "      minVal = a[i]\n",
        "  return [maxVal, minVal]\n",
        "\n",
        "def duplicates(a):\n",
        "  a=sorted(a)\n",
        "  count = 0\n",
        "  for i in range(0, len(a)-2):\n",
        "    if (a[i]==a[i+1]):\n",
        "      if (a[i+1]!=a[i+2]):\n",
        "        count += 1\n",
        "  return count\n",
        "\n",
        "\n",
        "print(duplicates([1, 12, 2, 4, 2, 12, 3, 10]))"
      ],
      "execution_count": null,
      "outputs": []
    },
    {
      "cell_type": "code",
      "metadata": {
        "colab": {
          "base_uri": "https://localhost:8080/"
        },
        "id": "rYTkZ-tzZkU0",
        "outputId": "3313c3c3-b8e7-45b8-db3e-61d6da0ebfed"
      },
      "source": [
        "def reverse(arr, revarr=[]):\n",
        "  for i in range(0,len(arr)):\n",
        "    revarr.append(arr[len(arr)-i-1])\n",
        "  return revarr\n",
        "\n",
        "def arrayFunction(arr, odd=[], even=[]):\n",
        "  for i in range(0,len(arr)):\n",
        "    if (arr[i]%2 == 0):\n",
        "      even.append(arr[i])\n",
        "    else:\n",
        "      odd.append(arr[i])\n",
        "  return [odd, even]\n",
        "\n",
        "\n",
        "def countOccurence(arr, s):\n",
        "  count = 0\n",
        "  for i in range(0,len(arr)):\n",
        "    if (arr[i] == s):\n",
        "      count += 1\n",
        "  return s\n",
        "\n",
        "\n",
        "print(countOccurence([1,2,1, 2, 78, 3], 2))"
      ],
      "execution_count": null,
      "outputs": [
        {
          "output_type": "stream",
          "text": [
            "2\n"
          ],
          "name": "stdout"
        }
      ]
    },
    {
      "cell_type": "code",
      "metadata": {
        "id": "5j8jzwCeoVWb"
      },
      "source": [
        "import random\n",
        "\n",
        "myNumber = random.randint(0,100)\n",
        "attempt = 1\n",
        "while(1):\n",
        "  guess = int(input(\"Enter your guess\"))\n",
        "  if (guess == myNumber):\n",
        "    print(\"you got me in your attempt \"+ str(attempt))\n",
        "    break\n",
        "  elif (guess > myNumber):\n",
        "    print(\"its too high\")\n",
        "    attempt += 1\n",
        "  else:\n",
        "    print(\"its too low\")\n",
        "    attempt += 1\n",
        "\n"
      ],
      "execution_count": null,
      "outputs": []
    },
    {
      "cell_type": "code",
      "metadata": {
        "id": "wkb1-jkErrKI"
      },
      "source": [
        "number = 0\n",
        "random.randint(0,9)\n",
        "for i in range(0,4):\n",
        "  number = (number*10) + random.randint(0,9)\n",
        "\n",
        "  #number.append(random.randint(0,9))\n",
        "\n",
        "guess = int(input(\"Enter your guess\"))\n",
        "for i in range(0,4):\n",
        "  if(number%10 == guess%10):"
      ],
      "execution_count": null,
      "outputs": []
    },
    {
      "cell_type": "code",
      "metadata": {
        "id": "IZQiKmu0XAkd"
      },
      "source": [
        "control = 1\n",
        "while (control == 1):\n",
        "  num1 = int(input(\"Enter the first number\"))\n",
        "  num2 = int(input(\"Enter the second number\"))\n",
        "\n",
        "  print(\"1. Addition\")\n",
        "  print(\"2. Subtraction\")\n",
        "  print(\"3. Multiplication\")\n",
        "  print(\"4. Division\")\n",
        "  print(\"5. Exponentiation\")\n",
        "\n",
        "  option = input(\"Select which operation you want to execute\")\n",
        "  if (option == '1'):\n",
        "    result = num1 + num2\n",
        "    print(\"your answer is \" )\n",
        "    print(result)\n",
        "  elif (option == '2'):\n",
        "    result = num1-num2\n",
        "    print(\"your answer is \" )\n",
        "    print(result)\n",
        "  elif (option == '3'):\n",
        "    result = num1*num2\n",
        "    print(\"your answer is \" )\n",
        "    print(result)\n",
        "  elif (option == '4'):\n",
        "    result = num1/num2\n",
        "    print(\"your answer is \" )\n",
        "    print(result)\n",
        "  elif (option == '5'):\n",
        "    result = num1**num2\n",
        "    print(\"your answer is \" )\n",
        "    print(result)\n",
        "  else:\n",
        "    print(\"wrong option\")\n",
        "\n",
        "  control = int(input(\"Do you want to continue(1. yes  2. No\"))\n",
        "print(\"Exited\")"
      ],
      "execution_count": null,
      "outputs": []
    },
    {
      "cell_type": "code",
      "metadata": {
        "colab": {
          "base_uri": "https://localhost:8080/"
        },
        "id": "KirNUClgtX2d",
        "outputId": "a3839410-757f-4dc3-b17c-13456e4bc76c"
      },
      "source": [
        "def ISperfectsquare(n):\n",
        "  for i in range(1, (n//2)+1):\n",
        "    if (i*i == n):\n",
        "      flag = True\n",
        "      return True\n",
        "  return False\n",
        "def ISfibonacci(x):\n",
        "  num1 = 5*x*x + 4\n",
        "  num2 = 5*x*x - 4\n",
        "  if (ISperfectsquare(num1) or ISperfectsquare(num2)):\n",
        "    return True\n",
        "  else:\n",
        "    return False\n",
        "\n",
        "print(ISfibonacci(15))"
      ],
      "execution_count": null,
      "outputs": [
        {
          "output_type": "stream",
          "text": [
            "False\n"
          ],
          "name": "stdout"
        }
      ]
    },
    {
      "cell_type": "code",
      "metadata": {
        "colab": {
          "base_uri": "https://localhost:8080/"
        },
        "id": "JSbM4HX5yCJW",
        "outputId": "ae316918-7a4e-4730-daed-c9985f7d3536"
      },
      "source": [
        "num1 = int(input(\"Enter the first number\"))\n",
        "num2 = int(input(\"Enter the second number\"))\n",
        "num3 = int(input(\"Enter the third number\"))\n",
        "\n",
        "if (num1 >= num2) and (num1 >= num3):\n",
        "    largest = num1\n",
        "elif (num2 >= num1) and (num2 >= num3):\n",
        "    largest = num2\n",
        "else:\n",
        "    largest = num3\n",
        "\n",
        "print(largest)\n"
      ],
      "execution_count": null,
      "outputs": [
        {
          "output_type": "stream",
          "text": [
            "Enter the first number4\n",
            "Enter the second number7\n",
            "Enter the third number2\n",
            "7\n"
          ],
          "name": "stdout"
        }
      ]
    },
    {
      "cell_type": "code",
      "metadata": {
        "id": "wiB2diyx336g"
      },
      "source": [
        "num1 = int(input(\"Enter the first number\"))\n",
        "num2 = int(input(\"Enter the second number\"))\n",
        "\n",
        "result = num1/num2\n",
        "print(result)"
      ],
      "execution_count": null,
      "outputs": []
    },
    {
      "cell_type": "code",
      "metadata": {
        "colab": {
          "base_uri": "https://localhost:8080/"
        },
        "id": "qpjToPzbBuLN",
        "outputId": "1d27e048-cc2e-48ed-c232-522a3d08fcdc"
      },
      "source": [
        "correct = [100, 200, 50]\n",
        "experiment = [100.5, 215, 80]\n",
        "score = []\n",
        "for i in range(0, len(correct)):\n",
        "  if ((0.99*correct[i]) < experiment[i] < (1.01*correct[i])):\n",
        "    score.append(8)\n",
        "  elif ((0.9*correct[i]) < experiment[i] < (1.1*correct[i])):\n",
        "    score.append(4)\n",
        "  else:\n",
        "    score.append(0)\n",
        "\n",
        "\n",
        "#def marking(high, tight, low, loose):\n",
        "#  correct = [100, 200, 50]\n",
        "#  experiment = [100.5, 215, 80]\n",
        "#  score = []\n",
        "#  for i in range(0, len(correct)):\n",
        "#    if (((1-(tight/100))*correct[i]) < experiment[i] < ((1+(tight/100))*correct[i])):\n",
        "#      score.append(high)\n",
        "#    elif (((1-(loose/100))*correct[i]) < experiment[i] < ((1+(loose/100))*correct[i])):\n",
        "#      score.append(low)\n",
        "#    else:\n",
        "#      score.append(0)\n",
        "#  return score\n",
        "\n",
        "#marking(8, 1, 4, 10)\n",
        "\n",
        "def findSum(score):\n",
        "  sumVal = 0\n",
        "  for i in range(0, len(score)):\n",
        "    sumVal += score[i]\n",
        "\n",
        "  sumPercentage = sumVal/(8*len(score))\n",
        "  return sumPercentage\n",
        "\n",
        "\n",
        "findSum(score)"
      ],
      "execution_count": null,
      "outputs": [
        {
          "output_type": "execute_result",
          "data": {
            "text/plain": [
              "0.5"
            ]
          },
          "metadata": {
            "tags": []
          },
          "execution_count": 5
        }
      ]
    },
    {
      "cell_type": "code",
      "metadata": {
        "id": "iX8HIqKPIntC"
      },
      "source": [
        "fruit = [1,2,3,1,2,3,5,2,4,6]\n",
        "unique_fruit = []\n",
        "\n",
        "for x in fruit:\n",
        "  if x not in unique_fruit:\n",
        "      unique_fruit.append(x)\n",
        "for x in unique_fruit:\n",
        "  print(x)\n",
        "\n",
        "\n",
        "count = 0\n",
        "favourite = unique_fruit[0]\n",
        "\n",
        "for x in  unique_fruit:\n",
        "  current_freq = fruit.count(x)\n",
        "  if (current_freq > count):\n",
        "    count = current_freq\n",
        "    favourite = x\n",
        "        \n",
        "favourite"
      ],
      "execution_count": null,
      "outputs": []
    },
    {
      "cell_type": "code",
      "metadata": {
        "colab": {
          "base_uri": "https://localhost:8080/"
        },
        "id": "6ZtCZY1X1lmF",
        "outputId": "438b52a0-fd85-40e9-fee3-fa34d6c04deb"
      },
      "source": [
        "def bubble(n):\n",
        "  x=[9, 7, 5, 3, 2, 4, 6, 8]\n",
        "  for j in range(1,n):\n",
        "    for i in range(1,n):\n",
        "      if (x[i-1] > x[i]):\n",
        "        temp=x[i]\n",
        "        x[i]=x[i-1]\n",
        "        x[i-1]=temp\n",
        "  print(x)\n",
        "\n",
        "bubble(8)"
      ],
      "execution_count": null,
      "outputs": [
        {
          "output_type": "stream",
          "text": [
            "[2, 3, 4, 5, 6, 7, 8, 9]\n"
          ],
          "name": "stdout"
        }
      ]
    },
    {
      "cell_type": "code",
      "metadata": {
        "id": "HvgoW8CnUCDU",
        "colab": {
          "base_uri": "https://localhost:8080/"
        },
        "outputId": "9ee4f82c-81d2-4345-e7a6-8e8d77df1164"
      },
      "source": [
        "principalAmount = int(input(\"enter principalAmount\"))\n",
        "interesrRate =  float(input(\"enter interesrRate\"))\n",
        "year = int(input(\"enter number of years\"))\n",
        "number = int(input(\"enter the number of times interest compounded each year\"))\n",
        "\n",
        "for i in range(1, year+1):\n",
        "  finalAmount = principalAmount*(1+interesrRate/number)**(number*i)\n",
        "  print(\"final amount for year \"+str(i) +\" is \"+ str(finalAmount))"
      ],
      "execution_count": null,
      "outputs": [
        {
          "output_type": "stream",
          "text": [
            "enter principalAmount1000\n",
            "enter interesrRate0.1\n",
            "enter number of years2\n",
            "enter the number of times interest compounded each year2\n",
            "final amount for year 1 is 1102.5\n",
            "final amount for year 2 is 1215.5062500000001\n"
          ],
          "name": "stdout"
        }
      ]
    },
    {
      "cell_type": "code",
      "metadata": {
        "id": "CwDbV5cdPb26"
      },
      "source": [
        "def winner(A, B):\n",
        "  if (A > B):\n",
        "    return 1\n",
        "  elif(B > A):\n",
        "    return 2\n",
        "  else:\n",
        "    return 0\n",
        "\n",
        "def sum(V,N):\n",
        "  sumVal = 0\n",
        "  for i in range(0,N):\n",
        "    sumVal += V[i]\n",
        "  return sumVal\n",
        "\n",
        "salesA = [23, 21, 24, 25, 21, 27]\n",
        "salesB = [13, 14, 15, 13, 12, 12]\n",
        "scoresA = []\n",
        "scoresB = []\n",
        "\n",
        "def scoresAB(salesA, salesB):\n",
        "  for i in range(0,len(salesA)):\n",
        "    win = winner(salesA[i],salesB[i])\n",
        "    if (win == 1):\n",
        "      scoresA.append(4)\n",
        "      scoresB.append(2)\n",
        "    elif (win == 2):\n",
        "      scoresA.append(2)\n",
        "      scoresB.append(3)\n",
        "    elif (win == 0):\n",
        "      scoresA.append(3)\n",
        "      scoresB.append(3) \n",
        "  print(scoresA)\n",
        "  print(scoresB)\n",
        "\n",
        "scoresAB(salesA, salesB)\n",
        "\n",
        "totalA = sum(scoresA, len(scoresA))\n",
        "totalB = sum(scoresB, len(scoresB))\n",
        "\n",
        "winVal = winner(totalA, totalB)\n",
        "if (winVal == 1):\n",
        "  print(\"Winner is shop A\")\n",
        "elif (winVal == 2):\n",
        "  print(\"Winner is shop B\")\n",
        "elif (winVal == 0):\n",
        "  print(\"Its a tie\")\n",
        "\n",
        "\n",
        "\n",
        "\n",
        "\n",
        "\n",
        "sum([1,2,3,4,5,6], 4)\n",
        "\n",
        "salesA = []\n",
        "salesB = []\n",
        "sumA = 0\n",
        "sumB = 0\n",
        "\n",
        "for i in range(0, len(salesA)):\n",
        "  sumA += salesA[i]\n",
        "for i in range(0, len(salesB)):\n",
        "  sumB += salesB[i]\n",
        "\n",
        "if (sumA > sumB):\n",
        "  print(\"winner is shop A\")\n",
        "elif (sumA < sumB):\n",
        "  print(\"winner is shop B\")\n",
        "else:\n",
        "  print(\"Its a tie here\")"
      ],
      "execution_count": null,
      "outputs": []
    },
    {
      "cell_type": "code",
      "metadata": {
        "id": "t2YIDhHrH4e5"
      },
      "source": [
        "month = [1,1,2,2,3,3,3,4,4,4]\n",
        "amount = [10, 12, 12, 23, 34, 12, 12, 78, 78, 78]\n",
        "category = [1, 2, 3, 4, 1, 5, 2, 3, 4, 1]\n",
        "foodTotal = 0\n",
        "clothingTotal = 0\n",
        "transportTotal = 0\n",
        "entertainTotal = 0\n",
        "savingsTotal = 0\n",
        "\n",
        "for i in range(0, len(category)):\n",
        "  if (category[i] == 1):\n",
        "    foodTotal += amount[i]\n",
        "  elif (category[i] == 2):\n",
        "    clothingTotal += amount[i]\n",
        "  elif (category[i] == 3):\n",
        "    transportTotal += amount[i]\n",
        "  elif (category[i] == 4):\n",
        "    entertainTotal += amount[i]\n",
        "  else:\n",
        "    savingsTotal += amount[i]\n",
        "print(foodTotal)\n",
        "print(clothingTotal)\n",
        "print(transportTotal)\n",
        "print(entertainTotal)\n",
        "print(savingsTotal)\n",
        "\n",
        "currentMonth = month[0]\n",
        "monthlyExpense = [0, 0, 0, 0]\n",
        "j = 0\n",
        "for i in range(0, len(month)):\n",
        "  if (month[i]!=currentMonth):\n",
        "    currentMonth = month[i]\n",
        "    j += 1\n",
        "  monthlyExpense[j] += amount[i] \n",
        "print(monthlyExpense)\n",
        "\n",
        "mostExpense = max(monthlyExpense)\n",
        "for i in range(0, len(monthlyExpense)):\n",
        "  if (monthlyExpense[i] == mostExpense):\n",
        "    expensiveMonth = i+1\n",
        "    break\n",
        "\n",
        "print(expensiveMonth)\n",
        "categoryExpense = [0, 0, 0, 0, 0]\n",
        "for i in range(0, len(category)):\n",
        "  currentCategory = category[i]\n",
        "  categoryExpense[currentCategory-1] += amount[i]\n",
        "print(categoryExpense)\n",
        "mostExpCategory = max(categoryExpense)\n",
        "for i in range(0, len(categoryExpense)):\n",
        "  if (categoryExpense[i] == mostExpCategory):\n",
        "    expensiveCategory = i+1\n",
        "    break\n",
        "\n",
        "print(expensiveCategory)\n"
      ],
      "execution_count": null,
      "outputs": []
    },
    {
      "cell_type": "code",
      "metadata": {
        "colab": {
          "base_uri": "https://localhost:8080/"
        },
        "id": "q_SEsPNGakp8",
        "outputId": "538a8f86-a0f8-4081-f5a9-e52c04cf606e"
      },
      "source": [
        "def highDevice(DEVICE1, DEVICE2):\n",
        "  HIGH = []\n",
        "  for i in range(0, len(DEVICE1)):\n",
        "    if (DEVICE1[i] > DEVICE2[i]):\n",
        "      HIGH.append(1)\n",
        "    elif (DEVICE2[i] > DEVICE1[i]):\n",
        "      HIGH.append(2)\n",
        "    else:\n",
        "      HIGH.append(0)\n",
        "  return HIGH\n",
        "\n",
        "\n",
        "def doCount(searchArray, value):\n",
        "  count = 0\n",
        "  for i in range(0, len(searchArray)):\n",
        "    if (searchArray[i] == value):\n",
        "      count += 1\n",
        "  return count\n",
        "\n",
        "def doRMS(DEVICE1, DEVICE2):\n",
        "  mean = 0\n",
        "  for i in range(0, len(DEVICE1)):\n",
        "    diff = DEVICE1[i] - DEVICE2[i]\n",
        "    sqr = diff*diff\n",
        "    mean += sqr\n",
        "  return mean**0.5\n",
        "\n",
        "\n",
        "DEVICE1 = [10, 11, 20, 32, 40, 11, 23]\n",
        "DEVICE2 = [13, 21, 10, 42, 40, 11, 62]\n",
        "\n",
        "rmsValue = doRMS(DEVICE1, DEVICE2)\n",
        "\n",
        "HIGH = highDevice(DEVICE1, DEVICE2)\n",
        "noTie = doCount(HIGH, 0)\n",
        "noDevice1 = doCount(HIGH, 1)\n",
        "noDevice2 = doCount(HIGH, 2)\n",
        "\n",
        "if (noDevice1 > noDevice2):\n",
        "  if (noDevice1 > noTie):\n",
        "    print(\"Device1 measured high more times\")\n",
        "  else:\n",
        "    print(\"It was tie more times\")\n",
        "else:\n",
        "  if (noDevice2 > noTie):\n",
        "    print(\"Device2 measured high more times\")\n",
        "  else:\n",
        "    print(\"It was tie more times\")"
      ],
      "execution_count": null,
      "outputs": [
        {
          "output_type": "stream",
          "text": [
            "Device2 measured high more times\n"
          ],
          "name": "stdout"
        }
      ]
    },
    {
      "cell_type": "code",
      "metadata": {
        "colab": {
          "base_uri": "https://localhost:8080/"
        },
        "id": "2-YWGNmo30Re",
        "outputId": "69da1278-32dc-4a87-9749-88f652e37fa0"
      },
      "source": [
        "#answer = [[1,2,4,1,5,2,3,1,4,5],[1,2,3,1,4,2,4,1,5,5],[1,2,1,5,3,1,4,2,4,5],[1,1,4,2,4,1,5,2,3,5]]\n",
        "score = [-5, -2, 0, 2, 5]\n",
        "for i in range(0,50):\n",
        "  q1 = int(input(\"Answer for q1\"))\n",
        "  q2 = int(input(\"Answer for q2\"))\n",
        "  q3 = int(input(\"Answer for q3\"))\n",
        "  q4 = int(input(\"Answer for q4\"))\n",
        "  q5 = int(input(\"Answer for q5\"))\n",
        "  studentAns = [q1, q2, q3, q4, q5]\n",
        "  answer.append(studentAns)\n",
        "studentScore =[]\n",
        "\n",
        "for i in range(0, len(answer)):\n",
        "  onesScore = []\n",
        "  for j in range(0, len(answer[i])):\n",
        "    index = answer[i][j]\n",
        "    onesScore.append(score[index-1])\n",
        "  studentScore.append(onesScore)\n",
        "\n",
        "total = [0,0,0,0,0,0,0,0,0,0]\n",
        "avgScore = []\n",
        "for i in range(0, len(studentScore)):\n",
        "  for j in range(0, len(studentScore[i])):\n",
        "    total[j] += studentScore[i][j]\n",
        "\n",
        "for i in range(0, len(total)):\n",
        "  avgScore.append(total[i]/len(studentScore))\n",
        "\n",
        "print(avgScore)"
      ],
      "execution_count": null,
      "outputs": [
        {
          "output_type": "execute_result",
          "data": {
            "text/plain": [
              "[-5.0, -2.75, -0.25, -1.75, 2.25, -3.5, 2.25, -3.5, 2.25, 5.0]"
            ]
          },
          "metadata": {
            "tags": []
          },
          "execution_count": 22
        }
      ]
    },
    {
      "cell_type": "code",
      "metadata": {
        "id": "0MxoF3a-rDaA"
      },
      "source": [
        "def findDirection(temperature):\n",
        "  direction = []\n",
        "  for i in range(1,len(temperature)):\n",
        "    if (temperature[i]>temperature[i-1]):\n",
        "      direction.append(1)\n",
        "    elif (temperature[i] < temperature[i-1]):\n",
        "      direction.append(-1)\n",
        "    else:\n",
        "      direction.append(0)\n",
        "  return direction\n",
        "\n",
        "def change0(direction):\n",
        "  for i in range(0,len(direction)):\n",
        "    if (direction[i]==0):\n",
        "      direction[i]=direction[i-1]\n",
        "  return direction\n",
        "\n",
        "def findPeaks(direction):\n",
        "  peakPos = []\n",
        "  for i in range(0, len(direction)-1):\n",
        "    if(direction[i]==1):\n",
        "      if(direction[i+1]== -1):\n",
        "        peakPos.append(i)\n",
        "  return peakPos\n",
        "\n",
        "\n",
        "temperature = [21, 22, 22, 23, 22, 21, 21, 24, 23, 22, 21, 21]\n",
        "\n",
        "direction = findDirection(temperature)\n",
        "direction = change0(direction)\n",
        "peaks = findPeaks(direction)\n",
        "for i in range(0, len(peaks)-1):\n",
        "  peakGap = peaks[i+1]-peaks[i]\n",
        "  print(peakGap)\n",
        "\n",
        "print(temperature)\n",
        "print(direction)\n",
        "print(peaks)\n"
      ],
      "execution_count": null,
      "outputs": []
    },
    {
      "cell_type": "code",
      "metadata": {
        "colab": {
          "base_uri": "https://localhost:8080/"
        },
        "id": "7s6mW_fc6jRl",
        "outputId": "5a5f0c5a-32a5-4610-ba7d-690253e89d47"
      },
      "source": [
        "def findIndex(V):\n",
        "  for i in range(0, len(V)-2):\n",
        "    currentNum = V[i]\n",
        "    if (currentNum == V[i+1] and currentNum == V[i+2]):\n",
        "      return i,currentNum\n",
        "  return -1\n",
        "\n",
        "def findRun(n,r):\n",
        "  return 1\n",
        "\n",
        "\n",
        "\n",
        "V = [3, 9, 7, 7, 7, 1, 5, 5, 5, 5]\n",
        "findIndex(V)\n",
        "\n"
      ],
      "execution_count": null,
      "outputs": [
        {
          "output_type": "execute_result",
          "data": {
            "text/plain": [
              "(6, 5)"
            ]
          },
          "metadata": {
            "tags": []
          },
          "execution_count": 2
        }
      ]
    },
    {
      "cell_type": "code",
      "metadata": {
        "id": "Ku5XurZrsc9D",
        "colab": {
          "base_uri": "https://localhost:8080/"
        },
        "outputId": "b5a8378d-d4a1-42c7-b3db-9197b8bbc79a"
      },
      "source": [
        "def Power(n,r):\n",
        "  result = 1\n",
        "  while(r>0):\n",
        "    result *= n\n",
        "    r -= 1\n",
        "  return result\n",
        "\n",
        "\n",
        "def Power1(n,r):\n",
        "  if (r==1):\n",
        "    return n\n",
        "  else:\n",
        "    result = n*Power1(n, r-1)\n",
        "  return result\n",
        "\n",
        "Power(2,3)\n",
        "\n"
      ],
      "execution_count": null,
      "outputs": [
        {
          "output_type": "execute_result",
          "data": {
            "text/plain": [
              "8"
            ]
          },
          "metadata": {
            "tags": []
          },
          "execution_count": 2
        }
      ]
    },
    {
      "cell_type": "code",
      "metadata": {
        "colab": {
          "base_uri": "https://localhost:8080/"
        },
        "id": "l5R2m5oKhpVp",
        "outputId": "c807be7d-0c49-4a76-b516-ccee47ab24b9"
      },
      "source": [
        "for i in range(1, 3):\n",
        "  print(i)\n",
        "  for letter in [\"a\", \"b\", \"c\"]:\n",
        "    print(letter)"
      ],
      "execution_count": null,
      "outputs": [
        {
          "output_type": "stream",
          "text": [
            "1\n",
            "a\n",
            "b\n",
            "c\n",
            "2\n",
            "a\n",
            "b\n",
            "c\n"
          ],
          "name": "stdout"
        }
      ]
    },
    {
      "cell_type": "code",
      "metadata": {
        "colab": {
          "base_uri": "https://localhost:8080/"
        },
        "id": "zYe-8Z5-90xR",
        "outputId": "6a155ee8-8a9f-44a5-9e63-d43b7ee5cfad"
      },
      "source": [
        "def recur_factorial(n):\n",
        "   if n == 1:\n",
        "       return n\n",
        "   else:\n",
        "       return n*recur_factorial(n-1)\n",
        "\n",
        "num = 7\n",
        "\n",
        "# check if the number is negative\n",
        "if num < 0:\n",
        "   print(\"Sorry, factorial does not exist for negative numbers\")\n",
        "elif num == 0:\n",
        "   print(\"The factorial of 0 is 1\")\n",
        "else:\n",
        "   print(\"The factorial of\", num, \"is\", recur_factorial(num))"
      ],
      "execution_count": null,
      "outputs": [
        {
          "output_type": "stream",
          "text": [
            "The factorial of 7 is 5040\n"
          ],
          "name": "stdout"
        }
      ]
    },
    {
      "cell_type": "code",
      "metadata": {
        "colab": {
          "base_uri": "https://localhost:8080/"
        },
        "id": "qbmqXbnXD3u3",
        "outputId": "9a1110e1-f46a-4eb8-bbb3-cac1f652bf14"
      },
      "source": [
        "class Adult ():\n",
        "  def __init__ ( self , name , height , weight , eye_color):\n",
        "    self .name = name\n",
        "    self .height = height\n",
        "    self .weight = weight\n",
        "    self .eye_color = eye_color\n",
        "  def print_name ( self ):\n",
        "    print ( self .name)\n",
        "\n",
        "tom = Adult( \"Tom\" , 6 , 150 , \"brown\" )\n",
        "print (tom.name)\n",
        "print (tom.height)\n",
        "print (tom.weight)\n",
        "print (tom.eye_color)\n",
        "tom.print_name()\n",
        "\n"
      ],
      "execution_count": null,
      "outputs": [
        {
          "output_type": "stream",
          "text": [
            "Tom\n",
            "6\n",
            "150\n",
            "brown\n",
            "Tom\n"
          ],
          "name": "stdout"
        }
      ]
    },
    {
      "cell_type": "code",
      "metadata": {
        "colab": {
          "base_uri": "https://localhost:8080/"
        },
        "id": "q63djWdIEgVT",
        "outputId": "a1e4a51f-ed6b-4ff4-c88b-e7345177e601"
      },
      "source": [
        "class Adult ():\n",
        "  def __init__ ( self , name , height , weight , eye_color):\n",
        "    self .name = name\n",
        "    self .height = height\n",
        "    self .weight = weight\n",
        "    self .eye_color = eye_color\n",
        "  def print_name ( self ):\n",
        "    print ( self .name)\n",
        "class Kid (Adult):\n",
        "  def print_cartoon ( self , favorite_cartoon):\n",
        "    print ( \"{}'s favorite cartoon is {}\" .format( self.name , favorite_cartoon))\n",
        "\n",
        "child = Kid( \"Lauren\" , 3 , 50 , \"blue\" )\n",
        "print (child.name)\n",
        "print (child.height)\n",
        "print (child.weight)\n",
        "print (child.eye_color)\n",
        "child.print_name()\n",
        "child.print_cartoon( 'DuckTales' )"
      ],
      "execution_count": null,
      "outputs": [
        {
          "output_type": "stream",
          "text": [
            "Lauren\n",
            "3\n",
            "50\n",
            "blue\n",
            "Lauren\n",
            "Lauren's favorite cartoon is DuckTales\n"
          ],
          "name": "stdout"
        }
      ]
    },
    {
      "cell_type": "code",
      "metadata": {
        "id": "ZeOa_alOIleI"
      },
      "source": [
        "class Data :\n",
        "  def get_data (self, index , n):\n",
        "    data = [ 1 , 2 , 3 , 4 , 5 ]\n",
        "    data.append(n)\n",
        "\n",
        "# warning this code does not work\n",
        "#Data.get_data.data.append(6)\n"
      ],
      "execution_count": null,
      "outputs": []
    },
    {
      "cell_type": "code",
      "metadata": {
        "colab": {
          "base_uri": "https://localhost:8080/"
        },
        "id": "KTh2PkIxJAKt",
        "outputId": "bff82ed8-91f5-4c08-ad36-35a942194c15"
      },
      "source": [
        "fruit = [\"Apple\", \"Kiwi\", \"Orange\", \"Banana\"]\n",
        "\n",
        "for i in fruit:\n",
        "  print(i)\n"
      ],
      "execution_count": null,
      "outputs": [
        {
          "output_type": "stream",
          "text": [
            "Apple\n",
            "Kiwi\n",
            "Orange\n",
            "Banana\n"
          ],
          "name": "stdout"
        }
      ]
    },
    {
      "cell_type": "code",
      "metadata": {
        "colab": {
          "base_uri": "https://localhost:8080/"
        },
        "id": "73syL8eTMsCf",
        "outputId": "37a5fbe2-6acd-4e0b-9863-2ca95e04c1e3"
      },
      "source": [
        "x = 1\n",
        "\n",
        "while (x<10):\n",
        "  print(x)\n",
        "  x = x+1"
      ],
      "execution_count": null,
      "outputs": [
        {
          "output_type": "stream",
          "text": [
            "1\n",
            "2\n",
            "3\n",
            "4\n",
            "5\n",
            "6\n",
            "7\n",
            "8\n",
            "9\n"
          ],
          "name": "stdout"
        }
      ]
    },
    {
      "cell_type": "code",
      "metadata": {
        "colab": {
          "base_uri": "https://localhost:8080/"
        },
        "id": "OUzGS6mUbt3W",
        "outputId": "5f9b9825-523c-48c7-cfbe-f3cd9a86536b"
      },
      "source": [
        "A = float(input(\"Enter first number: \"))\n",
        "B = float(input(\"Enter second number: \"))\n",
        "C = float(input(\"Enter third number: \"))\n",
        "\n",
        "max =A\n",
        "\n",
        "if (B > max):\n",
        "  max = B\n",
        "\n",
        "if (C > max):\n",
        "  max = C\n",
        "\n",
        "print(\"largerst is \")\n",
        "print(max)"
      ],
      "execution_count": null,
      "outputs": [
        {
          "output_type": "stream",
          "text": [
            "Enter first number: 3\n",
            "Enter second number: 5\n",
            "Enter third number: 2\n",
            "largerst is \n",
            "5.0\n"
          ],
          "name": "stdout"
        }
      ]
    },
    {
      "cell_type": "code",
      "metadata": {
        "colab": {
          "base_uri": "https://localhost:8080/"
        },
        "id": "OZTe38vUg3D9",
        "outputId": "026ae270-9bbf-47bd-e41e-1983fdc3b8ad"
      },
      "source": [
        "n = int(input(\"Enter the number \"))\n",
        "i = 1\n",
        "fact = 1\n",
        "while (i<=n):\n",
        "  fact *= i\n",
        "  i += 1\n",
        "\n",
        "print(\"Factorial of \", n,\" is \", fact)"
      ],
      "execution_count": null,
      "outputs": [
        {
          "output_type": "stream",
          "text": [
            "Enter the number5\n",
            "Factorial of  5  is  120\n"
          ],
          "name": "stdout"
        }
      ]
    },
    {
      "cell_type": "code",
      "metadata": {
        "colab": {
          "base_uri": "https://localhost:8080/"
        },
        "id": "4X8cz7tPkYuo",
        "outputId": "2627dea4-19b8-45d1-eabc-75e836493c71"
      },
      "source": [
        "def mergeArrays(A, B, n1, n2):\n",
        "  resultC = [None] * (n1 + n2)\n",
        "  i = 0\n",
        "  j = 0\n",
        "  k = 0\n",
        "\n",
        "  while i < n1 and j < n2:\n",
        "    if A[i] < B[j]:\n",
        "      resultC[k] = A[i]\n",
        "      k = k + 1\n",
        "      i = i + 1\n",
        "    else:\n",
        "      resultC[k] = B[j]\n",
        "      k = k + 1\n",
        "      j = j + 1\n",
        "    \n",
        "  while i < n1:\n",
        "    resultC[k] = A[i];\n",
        "    k = k + 1\n",
        "    i = i + 1\n",
        "\n",
        "  while j < n2:\n",
        "    resultC[k] = B[j];\n",
        "    k = k + 1\n",
        "    j = j + 1\n",
        "  print(\"List after merging\")\n",
        "  for i in range(n1 + n2):\n",
        "    print(str(resultC[i]), end = \" \")\n",
        " \n",
        "\n",
        "arr1 = [1, 3, 7, 9, 12, 14]\n",
        "n1 = len(arr1)\n",
        " \n",
        "arr2 = [2, 6, 10, 11, 16, 17, 18]\n",
        "n2 = len(arr2)\n",
        "mergeArrays(arr1, arr2, n1, n2);\n"
      ],
      "execution_count": null,
      "outputs": [
        {
          "output_type": "stream",
          "text": [
            "List after merging\n",
            "1 2 3 6 7 9 10 11 12 14 16 17 18 "
          ],
          "name": "stdout"
        }
      ]
    },
    {
      "cell_type": "code",
      "metadata": {
        "colab": {
          "base_uri": "https://localhost:8080/"
        },
        "id": "Y3xRIjRPMoc4",
        "outputId": "3e8b243e-97cd-4359-de7d-e99e4146455f"
      },
      "source": [
        "x = 5\n",
        "y = 10\n",
        "\n",
        "x = y\n",
        "y = x\n",
        "\n",
        "print(x)\n",
        "print(y)"
      ],
      "execution_count": null,
      "outputs": [
        {
          "output_type": "stream",
          "text": [
            "10\n",
            "10\n"
          ],
          "name": "stdout"
        }
      ]
    }
  ]
}